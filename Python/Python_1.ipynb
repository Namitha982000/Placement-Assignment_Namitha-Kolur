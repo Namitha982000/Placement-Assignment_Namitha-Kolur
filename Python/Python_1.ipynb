{
 "cells": [
  {
   "cell_type": "code",
   "execution_count": 2,
   "id": "f34f27ce-ccec-48db-95c6-a5b9b03f61fc",
   "metadata": {},
   "outputs": [
    {
     "name": "stdout",
     "output_type": "stream",
     "text": [
      "5\n"
     ]
    }
   ],
   "source": [
    "def highest_frequency_word_length(string):\n",
    "    # Split the string into words\n",
    "    words = string.split()\n",
    "    # Count the frequency of each word\n",
    "    word_freq = {}\n",
    "    for word in words:\n",
    "        word_freq[word] = word_freq.get(word, 0) + 1\n",
    "    # Find the highest frequency\n",
    "    max_freq = max(word_freq.values())\n",
    "    # Find the length of the highest-frequency word\n",
    "    highest_frequency_word_length = len(max(word_freq, key=word_freq.get))\n",
    "    return highest_frequency_word_length\n",
    "# Test the function with the example input\n",
    "string = \"write write write all the number from from from 1 to 100\"\n",
    "print(highest_frequency_word_length(string))"
   ]
  },
  {
   "cell_type": "code",
   "execution_count": null,
   "id": "21da468a-2f7f-41bb-860e-b7db80bf440b",
   "metadata": {},
   "outputs": [],
   "source": []
  }
 ],
 "metadata": {
  "kernelspec": {
   "display_name": "Python 3 (ipykernel)",
   "language": "python",
   "name": "python3"
  },
  "language_info": {
   "codemirror_mode": {
    "name": "ipython",
    "version": 3
   },
   "file_extension": ".py",
   "mimetype": "text/x-python",
   "name": "python",
   "nbconvert_exporter": "python",
   "pygments_lexer": "ipython3",
   "version": "3.10.6"
  }
 },
 "nbformat": 4,
 "nbformat_minor": 5
}
