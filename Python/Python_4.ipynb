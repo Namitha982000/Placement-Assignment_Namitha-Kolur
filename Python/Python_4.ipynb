{
 "cells": [
  {
   "cell_type": "markdown",
   "id": "972f0369-de31-4fd6-aaff-e2cedf6e4075",
   "metadata": {},
   "source": [
    "# Question 4"
   ]
  },
  {
   "cell_type": "code",
   "execution_count": 3,
   "id": "0d00c841-7238-4aa4-97c9-77a82e2a06d5",
   "metadata": {},
   "outputs": [
    {
     "name": "stdout",
     "output_type": "stream",
     "text": [
      "Data has been successfully downloaded and saved as CSV.\n"
     ]
    }
   ],
   "source": [
    "import pandas as pd\n",
    "import requests\n",
    "\n",
    "# Download the data from the URL\n",
    "url = 'https://data.nasa.gov/resource/y77d-th95.json'\n",
    "response = requests.get(url)\n",
    "\n",
    "# Read the data as JSON\n",
    "data = response.json()\n",
    "\n",
    "# Convert the data into a DataFrame\n",
    "df = pd.DataFrame(data)\n",
    "\n",
    "# Select and reorder the desired columns\n",
    "columns = ['name', 'id', 'nametype', 'recclass', 'year', 'reclat', 'reclong']\n",
    "df = df[columns]\n",
    "\n",
    "# Save the DataFrame as a CSV file\n",
    "df.to_csv('earth_meteorites.csv', index=False)\n",
    "\n",
    "print(\"Data has been successfully downloaded and saved as CSV.\")\n",
    "\n"
   ]
  },
  {
   "cell_type": "code",
   "execution_count": null,
   "id": "7f0e8c1a-8e58-482f-9cb8-7ecace4629df",
   "metadata": {},
   "outputs": [],
   "source": []
  }
 ],
 "metadata": {
  "kernelspec": {
   "display_name": "Python 3 (ipykernel)",
   "language": "python",
   "name": "python3"
  },
  "language_info": {
   "codemirror_mode": {
    "name": "ipython",
    "version": 3
   },
   "file_extension": ".py",
   "mimetype": "text/x-python",
   "name": "python",
   "nbconvert_exporter": "python",
   "pygments_lexer": "ipython3",
   "version": "3.10.6"
  }
 },
 "nbformat": 4,
 "nbformat_minor": 5
}
