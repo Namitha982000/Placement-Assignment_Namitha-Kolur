{
 "cells": [
  {
   "cell_type": "code",
   "execution_count": 10,
   "id": "be34c68c-f77a-4c3f-8584-3091fb95f589",
   "metadata": {},
   "outputs": [
    {
     "name": "stdout",
     "output_type": "stream",
     "text": [
      "Counts: {'Verbs': 1, 'Nouns': 3, 'Pronouns': 0, 'Adjectives': 2}\n",
      "Counts: {'Verbs': 10, 'Nouns': 26, 'Pronouns': 1, 'Adjectives': 7}\n",
      "Counts: {'Verbs': 0, 'Nouns': 0, 'Pronouns': 0, 'Adjectives': 0}\n",
      "Counts: {'Verbs': 0, 'Nouns': 0, 'Pronouns': 7, 'Adjectives': 0}\n"
     ]
    }
   ],
   "source": [
    "import nltk\n",
    "from nltk.tokenize import word_tokenize\n",
    "from nltk.tag import pos_tag\n",
    "nltk.download('all')\n",
    "\n",
    "def count_pos_tags(text):\n",
    "    # Tokenize the text into words\n",
    "    words = word_tokenize(text)\n",
    "\n",
    "    # Perform part-of-speech tagging\n",
    "    tagged_words = pos_tag(words)\n",
    "\n",
    "    # Initialize count variables\n",
    "    verb_count = 0\n",
    "    noun_count = 0\n",
    "    pronoun_count = 0\n",
    "    adjective_count = 0\n",
    "\n",
    "    # Count the number of each POS tag\n",
    "    for word, tag in tagged_words:\n",
    "        if tag.startswith('V'):  # Verbs\n",
    "            verb_count += 1\n",
    "        elif tag.startswith('N'):  # Nouns\n",
    "            noun_count += 1\n",
    "        elif tag.startswith('PRP'):  # Pronouns\n",
    "            pronoun_count += 1\n",
    "        elif tag.startswith('JJ'):  # Adjectives\n",
    "            adjective_count += 1\n",
    "\n",
    "    # Create a dictionary of counts\n",
    "    counts = {\n",
    "        'Verbs': verb_count,\n",
    "        'Nouns': noun_count,\n",
    "        'Pronouns': pronoun_count,\n",
    "        'Adjectives': adjective_count\n",
    "    }\n",
    "\n",
    "    return counts\n",
    "\n",
    "# Test case 1: Count POS tags in a phrase\n",
    "phrase = \"The quick brown fox jumps over the lazy dog.\"\n",
    "counts = count_pos_tags(phrase)\n",
    "print(\"Counts:\", counts)\n",
    "\n",
    "# Test case 2: Count POS tags in a paragraph\n",
    "paragraph = \"\"\"\n",
    "    Natural Language Processing (NLP) is a field of artificial intelligence that focuses on the interaction between computers and humans through natural language. \n",
    "    It involves the development of algorithms and models to understand and analyze human language, enabling machines to process, interpret, and generate text.\n",
    "    NLP techniques can be applied to various tasks, such as sentiment analysis, machine translation, information retrieval, and text summarization.\n",
    "\"\"\"\n",
    "counts = count_pos_tags(paragraph)\n",
    "print(\"Counts:\", counts)\n",
    "\n",
    "# Additional test case 3: Count POS tags in an empty string\n",
    "empty_text = \"\"\n",
    "counts = count_pos_tags(empty_text)\n",
    "print(\"Counts:\", counts)\n",
    "\n",
    "# Additional test case 4: Count POS tags in a sentence with only pronouns\n",
    "pronoun_sentence = \"I, you, he, she, it, we, they\"\n",
    "counts = count_pos_tags(pronoun_sentence)\n",
    "print(\"Counts:\", counts)\n"
   ]
  },
  {
   "cell_type": "code",
   "execution_count": null,
   "id": "9f885d60-a6f8-4d67-8cda-51abea2390b0",
   "metadata": {},
   "outputs": [],
   "source": []
  }
 ],
 "metadata": {
  "kernelspec": {
   "display_name": "Python 3 (ipykernel)",
   "language": "python",
   "name": "python3"
  },
  "language_info": {
   "codemirror_mode": {
    "name": "ipython",
    "version": 3
   },
   "file_extension": ".py",
   "mimetype": "text/x-python",
   "name": "python",
   "nbconvert_exporter": "python",
   "pygments_lexer": "ipython3",
   "version": "3.10.6"
  }
 },
 "nbformat": 4,
 "nbformat_minor": 5
}
