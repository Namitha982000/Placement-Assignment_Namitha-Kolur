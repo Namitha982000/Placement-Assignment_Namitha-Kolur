{
 "cells": [
  {
   "cell_type": "code",
   "execution_count": 3,
   "id": "1041dce8-f103-441d-b534-15e86ab2369c",
   "metadata": {},
   "outputs": [
    {
     "name": "stdout",
     "output_type": "stream",
     "text": [
      "YES\n",
      "NO\n"
     ]
    }
   ],
   "source": [
    "def is_valid_string(s):\n",
    "    char_freq = {}\n",
    "    for char in s:\n",
    "        char_freq[char] = char_freq.get(char, 0) + 1\n",
    "\n",
    "    freq_count = {}\n",
    "    for freq in char_freq.values():\n",
    "        freq_count[freq] = freq_count.get(freq, 0) + 1\n",
    "\n",
    "    if len(freq_count) == 1:\n",
    "        return \"YES\"\n",
    "    elif len(freq_count) == 2 and 1 in freq_count.values() and freq_count[min(freq_count)] == 1:\n",
    "        return \"YES\"\n",
    "    else:\n",
    "        return \"NO\"\n",
    "# Test the function with the example inputs\n",
    "print(is_valid_string(\"abc\"))\n",
    "print(is_valid_string(\"abcc\"))"
   ]
  },
  {
   "cell_type": "code",
   "execution_count": null,
   "id": "576a4656-2e44-4254-8e6c-3a692ecd9748",
   "metadata": {},
   "outputs": [],
   "source": []
  }
 ],
 "metadata": {
  "kernelspec": {
   "display_name": "Python 3 (ipykernel)",
   "language": "python",
   "name": "python3"
  },
  "language_info": {
   "codemirror_mode": {
    "name": "ipython",
    "version": 3
   },
   "file_extension": ".py",
   "mimetype": "text/x-python",
   "name": "python",
   "nbconvert_exporter": "python",
   "pygments_lexer": "ipython3",
   "version": "3.10.6"
  }
 },
 "nbformat": 4,
 "nbformat_minor": 5
}
