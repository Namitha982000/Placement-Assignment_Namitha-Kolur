{
 "cells": [
  {
   "cell_type": "code",
   "execution_count": 1,
   "id": "77daec26-9758-4358-8da9-5d60f7610630",
   "metadata": {},
   "outputs": [
    {
     "data": {
      "image/png": "[encoded data removed]",
      "text/plain": [
       "<Figure size 640x480 with 1 Axes>"
      ]
     },
     "metadata": {},
     "output_type": "display_data"
    },
    {
     "name": "stdout",
     "output_type": "stream",
     "text": [
      "Episodes with average rating > 8 per season:\n",
      "season\n",
      "1    [7, 9, 10]\n",
      "2    [8, 9, 10]\n",
      "Name: number, dtype: object\n",
      "\n",
      "Episode names that aired before May 2019:\n",
      "0      1\n",
      "1      2\n",
      "2      3\n",
      "3      4\n",
      "4      5\n",
      "5      6\n",
      "6      7\n",
      "7      8\n",
      "8      9\n",
      "9     10\n",
      "10     1\n",
      "11     2\n",
      "12     3\n",
      "13     4\n",
      "14     5\n",
      "15     6\n",
      "16     7\n",
      "17     8\n",
      "18     9\n",
      "19    10\n",
      "Name: number, dtype: int64\n",
      "\n",
      "Episode with the highest rating per season:\n",
      "    season  number  average rating\n",
      "9        1      10             8.7\n",
      "17       2       8             8.7\n",
      "20       3       1             8.0\n",
      "32       4       5             7.8\n",
      "\n",
      "Episode with the lowest rating per season:\n",
      "    season  number  average rating\n",
      "2        1       3             7.6\n",
      "14       2       5             7.6\n",
      "25       3       6             7.5\n",
      "28       4       1             7.1\n",
      "\n",
      "Summary of the most popular episode per season:\n",
      "    season  number                                            summary\n",
      "9        1      10  Delores finds out the truth about William's fa...\n",
      "17       2       8  Another of Westworld's Host revolutionaries is...\n",
      "20       3       1  If you're stuck in a loop, try walking in a st...\n",
      "32       4       5                                      God is bored.\n"
     ]
    }
   ],
   "source": [
    "import pandas as pd\n",
    "import matplotlib.pyplot as plt\n",
    "\n",
    "# Load the episode data from the CSV file\n",
    "df = pd.read_csv('westworld_episodes.csv')\n",
    "\n",
    "# Question 1: Ratings comparison for each season\n",
    "season_ratings = df.groupby('season')['average rating'].mean()\n",
    "season_ratings.plot(kind='bar')\n",
    "plt.xlabel('Season')\n",
    "plt.ylabel('Average Rating')\n",
    "plt.title('Average Ratings by Season')\n",
    "plt.show()\n",
    "\n",
    "# Question 2: Episode names with average rating > 8 for each season\n",
    "highly_rated_episodes = df[df['average rating'] > 8]\n",
    "highly_rated_episodes_per_season = highly_rated_episodes.groupby('season')['number'].apply(list)\n",
    "print(\"Episodes with average rating > 8 per season:\")\n",
    "print(highly_rated_episodes_per_season)\n",
    "\n",
    "# Question 3: Episode names that aired before May 2019\n",
    "df['airdate'] = pd.to_datetime(df['airdate'])\n",
    "episodes_before_may_2019 = df[df['airdate'] < '2019-05-01']['number']\n",
    "print(\"\\nEpisode names that aired before May 2019:\")\n",
    "print(episodes_before_may_2019)\n",
    "\n",
    "# Question 4: Episode with the highest and lowest rating per season\n",
    "max_rating_per_season = df.groupby('season')['average rating'].idxmax()\n",
    "min_rating_per_season = df.groupby('season')['average rating'].idxmin()\n",
    "highest_rated_episodes = df.loc[max_rating_per_season, ['season', 'number', 'average rating']]\n",
    "lowest_rated_episodes = df.loc[min_rating_per_season, ['season', 'number', 'average rating']]\n",
    "print(\"\\nEpisode with the highest rating per season:\")\n",
    "print(highest_rated_episodes)\n",
    "print(\"\\nEpisode with the lowest rating per season:\")\n",
    "print(lowest_rated_episodes)\n",
    "\n",
    "# Question 5: Summary of the most popular episode per season\n",
    "most_popular_episodes = df.groupby('season')['average rating'].idxmax()\n",
    "summary_most_popular_episodes = df.loc[most_popular_episodes, ['season', 'number', 'summary']]\n",
    "print(\"\\nSummary of the most popular episode per season:\")\n",
    "print(summary_most_popular_episodes)\n"
   ]
  },
  {
   "cell_type": "code",
   "execution_count": null,
   "id": "a095ab21-f5e6-4652-bac7-1d9654ff53b4",
   "metadata": {},
   "outputs": [],
   "source": []
  }
 ],
 "metadata": {
  "kernelspec": {
   "display_name": "Python 3 (ipykernel)",
   "language": "python",
   "name": "python3"
  },
  "language_info": {
   "codemirror_mode": {
    "name": "ipython",
    "version": 3
   },
   "file_extension": ".py",
   "mimetype": "text/x-python",
   "name": "python",
   "nbconvert_exporter": "python",
   "pygments_lexer": "ipython3",
   "version": "3.10.6"
  }
 },
 "nbformat": 4,
 "nbformat_minor": 5
}
