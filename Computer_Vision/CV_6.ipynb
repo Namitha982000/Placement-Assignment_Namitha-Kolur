{
 "cells": [
  {
   "attachments": {},
   "cell_type": "markdown",
   "metadata": {},
   "source": [
    "# Question 6"
   ]
  },
  {
   "cell_type": "code",
   "execution_count": null,
   "metadata": {},
   "outputs": [],
   "source": [
    "import os\n",
    "import numpy as np\n",
    "import torch\n",
    "from detectron2.data import MetadataCatalog, DatasetCatalog\n",
    "from detectron2.data.datasets import register_coco_instances\n",
    "from detectron2.config import get_cfg\n",
    "from detectron2.engine import DefaultTrainer\n",
    "from detectron2.utils.visualizer import ColorMode, Visualizer\n",
    "from detectron2.checkpoint import DetectionCheckpointer\n",
    "\n",
    "\n",
    "# 1. Prepare the Dataset\n",
    "dataset_name = \"custom_dataset\"  # Change this to your dataset name\n",
    "dataset_dir = \"/path/to/dataset\"  # Change this to your dataset directory\n",
    "\n",
    "# Register the COCO format dataset\n",
    "register_coco_instances(dataset_name, {}, os.path.join(dataset_dir, \"train.json\"), os.path.join(dataset_dir, \"images\"))\n",
    "\n",
    "# 2. Set Up Detectron2\n",
    "cfg = get_cfg()\n",
    "cfg.merge_from_file(\"path/to/config.yaml\")  # Change this to your model configuration file\n",
    "cfg.DATASETS.TRAIN = (dataset_name,)\n",
    "cfg.DATASETS.TEST = ()\n",
    "cfg.DATALOADER.NUM_WORKERS = 2  # Adjust the number of workers based on your system\n",
    "cfg.MODEL.WEIGHTS = \"path/to/pretrained/model.pth\"  # Change this to your pretrained model weights\n",
    "cfg.SOLVER.IMS_PER_BATCH = 2\n",
    "cfg.SOLVER.BASE_LR = 0.00025\n",
    "cfg.SOLVER.MAX_ITER = 5000\n",
    "cfg.MODEL.ROI_HEADS.BATCH_SIZE_PER_IMAGE = 128\n",
    "cfg.MODEL.ROI_HEADS.NUM_CLASSES = num_classes  # Set the number of classes in your dataset\n",
    "\n",
    "# 3. Train the Model\n",
    "os.makedirs(cfg.OUTPUT_DIR, exist_ok=True)\n",
    "trainer = DefaultTrainer(cfg)\n",
    "trainer.resume_or_load(resume=False)\n",
    "trainer.train()\n",
    "\n",
    "# 4. Evaluate the Model\n",
    "model = trainer.build_model(cfg)\n",
    "DetectionCheckpointer(model).load(cfg.MODEL.WEIGHTS)\n",
    "model.eval()\n",
    "\n",
    "# 5. Segment Images based on User Input\n",
    "image_path = \"path/to/input/image.jpg\"  # Change this to your input image path\n",
    "image = np.array(Image.open(image_path).convert(\"RGB\"))\n",
    "outputs = model(image)\n",
    "\n",
    "# Visualize the segmentation results\n",
    "v = Visualizer(image[:, :, ::-1], MetadataCatalog.get(cfg.DATASETS.TRAIN[0]), scale=1.2, instance_mode=ColorMode.IMAGE_BW)\n",
    "v = v.draw_instance_predictions(outputs[\"instances\"].to(\"cpu\"))\n",
    "output_image = v.get_image()[:, :, ::-1]\n",
    "\n",
    "# Display or save the output image\n",
    "cv2.imshow(\"Segmentation Output\", output_image)\n",
    "cv2.waitKey(0)\n",
    "cv2.destroyAllWindows()\n"
   ]
  }
 ],
 "metadata": {
  "language_info": {
   "name": "python"
  },
  "orig_nbformat": 4
 },
 "nbformat": 4,
 "nbformat_minor": 2
}
