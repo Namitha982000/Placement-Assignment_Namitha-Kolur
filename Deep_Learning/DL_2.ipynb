{
  "cells": [
    {
      "attachments": {},
      "cell_type": "markdown",
      "metadata": {
        "id": "ob8OpODMJp3j"
      },
      "source": [
        "# Question 2"
      ]
    },
    {
      "attachments": {},
      "cell_type": "markdown",
      "metadata": {
        "id": "jn84h923JR8L"
      },
      "source": [
        "# Architecture 1: Simple CNN"
      ]
    },
    {
      "cell_type": "code",
      "execution_count": 2,
      "metadata": {
        "id": "f8GA-hgfGL4G"
      },
      "outputs": [],
      "source": [
        "import torch\n",
        "import torch.nn as nn\n",
        "\n",
        "class SimpleCNN(nn.Module):\n",
        "    def __init__(self):\n",
        "        super(SimpleCNN, self).__init__()\n",
        "        self.conv1 = nn.Conv2d(3, 16, kernel_size=3, stride=1, padding=1)\n",
        "        self.relu = nn.ReLU()\n",
        "        self.pool = nn.MaxPool2d(kernel_size=2, stride=2)\n",
        "        self.fc = nn.Linear(8*8*16, 10)\n",
        "\n",
        "    def forward(self, x):\n",
        "        x = self.pool(self.relu(self.conv1(x)))\n",
        "        x = x.view(-1, 8*8*16)\n",
        "        x = self.fc(x)\n",
        "        return x\n"
      ]
    },
    {
      "attachments": {},
      "cell_type": "markdown",
      "metadata": {
        "id": "zYuymbxkJTnT"
      },
      "source": [
        "# Architecture 2: LeNet-5"
      ]
    },
    {
      "cell_type": "code",
      "execution_count": 3,
      "metadata": {
        "id": "6dWB_hrhJKFs"
      },
      "outputs": [],
      "source": [
        "import torch\n",
        "import torch.nn as nn\n",
        "\n",
        "class LeNet5(nn.Module):\n",
        "    def __init__(self):\n",
        "        super(LeNet5, self).__init__()\n",
        "        self.conv1 = nn.Conv2d(3, 6, kernel_size=5)\n",
        "        self.relu = nn.ReLU()\n",
        "        self.pool = nn.MaxPool2d(kernel_size=2, stride=2)\n",
        "        self.conv2 = nn.Conv2d(6, 16, kernel_size=5)\n",
        "        self.fc1 = nn.Linear(16*5*5, 120)\n",
        "        self.fc2 = nn.Linear(120, 84)\n",
        "        self.fc3 = nn.Linear(84, 10)\n",
        "\n",
        "    def forward(self, x):\n",
        "        x = self.pool(self.relu(self.conv1(x)))\n",
        "        x = self.pool(self.relu(self.conv2(x)))\n",
        "        x = x.view(-1, 16*5*5)\n",
        "        x = self.relu(self.fc1(x))\n",
        "        x = self.relu(self.fc2(x))\n",
        "        x = self.fc3(x)\n",
        "        return x\n"
      ]
    },
    {
      "attachments": {},
      "cell_type": "markdown",
      "metadata": {
        "id": "RudtxxzZJW2N"
      },
      "source": [
        "# Architecture 3: MiniVGGNet"
      ]
    },
    {
      "cell_type": "code",
      "execution_count": 4,
      "metadata": {
        "id": "BHDsJEl_JMk9"
      },
      "outputs": [],
      "source": [
        "import torch\n",
        "import torch.nn as nn\n",
        "\n",
        "class MiniVGGNet(nn.Module):\n",
        "    def __init__(self):\n",
        "        super(MiniVGGNet, self).__init__()\n",
        "        self.conv1 = nn.Conv2d(3, 32, kernel_size=3, padding=1)\n",
        "        self.relu = nn.ReLU()\n",
        "        self.conv2 = nn.Conv2d(32, 32, kernel_size=3, padding=1)\n",
        "        self.pool = nn.MaxPool2d(kernel_size=2, stride=2)\n",
        "        self.conv3 = nn.Conv2d(32, 64, kernel_size=3, padding=1)\n",
        "        self.conv4 = nn.Conv2d(64, 64, kernel_size=3, padding=1)\n",
        "        self.fc1 = nn.Linear(64*8*8, 512)\n",
        "        self.fc2 = nn.Linear(512, 10)\n",
        "\n",
        "    def forward(self, x):\n",
        "        x = self.relu(self.conv1(x))\n",
        "        x = self.relu(self.conv2(x))\n",
        "        x = self.pool(x)\n",
        "        x = self.relu(self.conv3(x))\n",
        "        x = self.relu(self.conv4(x))\n",
        "        x = self.pool(x)\n",
        "        x = x.view(-1, 64*8*8)\n",
        "        x = self.relu(self.fc1(x))\n",
        "        x = self.fc2(x)\n",
        "        return x\n"
      ]
    },
    {
      "attachments": {},
      "cell_type": "markdown",
      "metadata": {
        "id": "Sfr0CnHDJcG-"
      },
      "source": [
        "# Architecture 4: MobileNetV1"
      ]
    },
    {
      "cell_type": "code",
      "execution_count": 5,
      "metadata": {
        "id": "peacp807Jbg_"
      },
      "outputs": [],
      "source": [
        "import torch\n",
        "import torch.nn as nn\n",
        "\n",
        "class DepthwiseSeparableConv(nn.Module):\n",
        "    def __init__(self, in_channels, out_channels, stride):\n",
        "        super(DepthwiseSeparableConv, self).__init__()\n",
        "        self.depthwise = nn.Conv2d(in_channels, in_channels, kernel_size=3, stride=stride, padding=1, groups=in_channels)\n",
        "        self.pointwise = nn.Conv2d(in_channels, out_channels, kernel_size=1)\n",
        "\n",
        "    def forward(self, x):\n",
        "        x = self.depthwise(x)\n",
        "        x = self.pointwise(x)\n",
        "        return x\n",
        "\n",
        "class MobileNetV1(nn.Module):\n",
        "    def __init__(self):\n",
        "        super(MobileNetV1, self).__init__()\n",
        "        self.conv1 = nn.Conv2d(3, 32, kernel_size=3, stride=1, padding=1)\n",
        "        self.relu = nn.ReLU()\n",
        "        self.dw_separable1 = DepthwiseSeparableConv(32, 64, stride=1)\n",
        "        self.dw_separable2 = DepthwiseSeparableConv(64, 128, stride=2)\n",
        "        self.dw_separable3 = DepthwiseSeparableConv(128, 128, stride=1)\n",
        "        self.dw_separable4 = DepthwiseSeparableConv(128, 256, stride=2)\n",
        "        self.dw_separable5 = DepthwiseSeparableConv(256, 256, stride=1)\n",
        "        self.dw_separable6 = DepthwiseSeparableConv(256, 512, stride=2)\n",
        "        self.dw_separable7 = DepthwiseSeparableConv(512, 512, stride=1)\n",
        "        self.dw_separable8 = DepthwiseSeparableConv(512, 1024, stride=2)\n",
        "        self.dw_separable9 = DepthwiseSeparableConv(1024, 1024, stride=1)\n",
        "        self.avg_pool = nn.AdaptiveAvgPool2d((1, 1))\n",
        "        self.fc = nn.Linear(1024, 10)\n",
        "\n",
        "    def forward(self, x):\n",
        "        x = self.relu(self.conv1(x))\n",
        "        x = self.dw_separable1(x)\n",
        "        x = self.dw_separable2(x)\n",
        "        x = self.dw_separable3(x)\n",
        "        x = self.dw_separable4(x)\n",
        "        x = self.dw_separable5(x)\n",
        "        x = self.dw_separable6(x)\n",
        "        x = self.dw_separable7(x)\n",
        "        x = self.dw_separable8(x)\n",
        "        x = self.dw_separable9(x)\n",
        "        x = self.avg_pool(x)\n",
        "        x = x.view(-1, 1024)\n",
        "        x = self.fc(x)\n",
        "        return x\n"
      ]
    },
    {
      "attachments": {},
      "cell_type": "markdown",
      "metadata": {
        "id": "E5ApC8-GJjg9"
      },
      "source": [
        "# Architecture 5: ShuffleNetV1"
      ]
    },
    {
      "cell_type": "code",
      "execution_count": 6,
      "metadata": {
        "id": "m-3094TzJgkM"
      },
      "outputs": [],
      "source": [
        "import torch\n",
        "import torch.nn as nn\n",
        "\n",
        "class ChannelShuffle(nn.Module):\n",
        "    def __init__(self, groups):\n",
        "        super(ChannelShuffle, self).__init__()\n",
        "        self.groups = groups\n",
        "\n",
        "    def forward(self, x):\n",
        "        batch_size, num_channels, height, width = x.size()\n",
        "        channels_per_group = num_channels // self.groups\n",
        "\n",
        "        # Reshape\n",
        "        x = x.view(batch_size, self.groups, channels_per_group, height, width)\n",
        "\n",
        "        # Transpose\n",
        "        x = x.transpose(1, 2).contiguous()\n",
        "\n",
        "        # Reshape back\n",
        "        x = x.view(batch_size, -1, height, width)\n",
        "        return x\n",
        "\n",
        "class ShuffleNetV1(nn.Module):\n",
        "    def __init__(self, groups=3):\n",
        "        super(ShuffleNetV1, self).__init__()\n",
        "        self.conv1 = nn.Conv2d(3, 24, kernel_size=3, stride=1, padding=1)\n",
        "        self.relu = nn.ReLU()\n",
        "        self.max_pool = nn.MaxPool2d(kernel_size=2, stride=2)\n",
        "        self.stage2 = self._make_stage(24, 144, groups)\n",
        "        self.stage3 = self._make_stage(144, 288, groups)\n",
        "        self.stage4 = self._make_stage(288, 576, groups)\n",
        "        self.avg_pool = nn.AdaptiveAvgPool2d((1, 1))\n",
        "        self.fc = nn.Linear(576, 10)\n",
        "\n",
        "    def _make_stage(self, in_channels, out_channels, groups):\n",
        "        layers = []\n",
        "        layers.append(nn.Conv2d(in_channels, out_channels // 2, kernel_size=1))\n",
        "        layers.append(nn.BatchNorm2d(out_channels // 2))\n",
        "        layers.append(self.relu)\n",
        "        layers.append(ChannelShuffle(groups))\n",
        "        layers.append(nn.Conv2d(out_channels // 2, out_channels // 2, kernel_size=3, stride=1, padding=1, groups=out_channels // 2))\n",
        "        layers.append(nn.BatchNorm2d(out_channels // 2))\n",
        "        layers.append(nn.Conv2d(out_channels // 2, out_channels, kernel_size=1))\n",
        "        layers.append(nn.BatchNorm2d(out_channels))\n",
        "        layers.append(self.relu)\n",
        "        return nn.Sequential(*layers)\n",
        "\n",
        "    def forward(self, x):\n",
        "        x = self.relu(self.conv1(x))\n",
        "        x = self.max_pool(x)\n",
        "        x = self.stage2(x)\n",
        "        x = self.stage3(x)\n",
        "        x = self.stage4(x)\n",
        "        x = self.avg_pool(x)\n",
        "        x = x.view(-1, 576)\n",
        "        x = self.fc(x)\n",
        "        return x\n"
      ]
    },
    {
      "cell_type": "code",
      "execution_count": null,
      "metadata": {
        "id": "x7qpF8-4JmjN"
      },
      "outputs": [],
      "source": []
    }
  ],
  "metadata": {
    "accelerator": "GPU",
    "colab": {
      "gpuType": "T4",
      "provenance": []
    },
    "gpuClass": "standard",
    "kernelspec": {
      "display_name": "Python 3",
      "name": "python3"
    },
    "language_info": {
      "name": "python"
    }
  },
  "nbformat": 4,
  "nbformat_minor": 0
}
